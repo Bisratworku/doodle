{
 "cells": [
  {
   "cell_type": "code",
   "execution_count": 1,
   "id": "a878c645",
   "metadata": {},
   "outputs": [],
   "source": [
    "#=nb"
   ]
  },
  {
   "cell_type": "code",
   "execution_count": 2,
   "id": "3ede776b",
   "metadata": {},
   "outputs": [],
   "source": [
    "import numpy as np\n",
    "import matplotlib.pyplot as plt\n",
    "import json \n",
    "import torch\n",
    "from torch import nn\n",
    "from process_bin import addData"
   ]
  },
  {
   "cell_type": "code",
   "execution_count": null,
   "id": "b806d268",
   "metadata": {},
   "outputs": [],
   "source": [
    "path = 'train\\\\data\\\\full_binary_The Eiffel Tower.bin'\n",
    "data = addData.unpack_drawing()"
   ]
  }
 ],
 "metadata": {
  "kernelspec": {
   "display_name": "Python 3",
   "language": "python",
   "name": "python3"
  },
  "language_info": {
   "codemirror_mode": {
    "name": "ipython",
    "version": 3
   },
   "file_extension": ".py",
   "mimetype": "text/x-python",
   "name": "python",
   "nbconvert_exporter": "python",
   "pygments_lexer": "ipython3",
   "version": "3.12.10"
  }
 },
 "nbformat": 4,
 "nbformat_minor": 5
}
